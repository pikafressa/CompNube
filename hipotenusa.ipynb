{
  "nbformat": 4,
  "nbformat_minor": 0,
  "metadata": {
    "colab": {
      "provenance": [],
      "authorship_tag": "ABX9TyM06aEb6/4CnSZ1aiwCOOC9",
      "include_colab_link": true
    },
    "kernelspec": {
      "name": "python3",
      "display_name": "Python 3"
    },
    "language_info": {
      "name": "python"
    }
  },
  "cells": [
    {
      "cell_type": "markdown",
      "metadata": {
        "id": "view-in-github",
        "colab_type": "text"
      },
      "source": [
        "<a href=\"https://colab.research.google.com/github/pikafressa/CompNube/blob/main/hipotenusa.ipynb\" target=\"_parent\"><img src=\"https://colab.research.google.com/assets/colab-badge.svg\" alt=\"Open In Colab\"/></a>"
      ]
    },
    {
      "cell_type": "code",
      "execution_count": 1,
      "metadata": {
        "colab": {
          "base_uri": "https://localhost:8080/"
        },
        "id": "WJtMx37ekEh3",
        "outputId": "0b2d6357-709f-4426-f39a-24c9f0050cf0"
      },
      "outputs": [
        {
          "output_type": "stream",
          "name": "stdout",
          "text": [
            "ingresa el cateto a: 5\n",
            "Ingresa el cateto b: 8\n",
            "La hipotenusa del triangulo es: 9.433981132056603\n"
          ]
        }
      ],
      "source": [
        "# Calcular la hipotenusa de un triangulo rectangulo\n",
        "\n",
        "from math import sqrt\n",
        "\n",
        "a = float(input(\"ingresa el cateto a: \"))\n",
        "b = float(input(\"Ingresa el cateto b: \"))\n",
        "c = sqrt ((a **2) + (b**2))\n",
        "\n",
        "print (f\"La hipotenusa del triangulo es: {c}\")\n"
      ]
    }
  ]
}