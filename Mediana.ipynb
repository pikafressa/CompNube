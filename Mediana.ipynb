{
  "nbformat": 4,
  "nbformat_minor": 0,
  "metadata": {
    "colab": {
      "provenance": [],
      "authorship_tag": "ABX9TyPaAqTSNoD6RWK/kd6CpsYK",
      "include_colab_link": true
    },
    "kernelspec": {
      "name": "python3",
      "display_name": "Python 3"
    },
    "language_info": {
      "name": "python"
    }
  },
  "cells": [
    {
      "cell_type": "markdown",
      "metadata": {
        "id": "view-in-github",
        "colab_type": "text"
      },
      "source": [
        "<a href=\"https://colab.research.google.com/github/pikafressa/CompNube/blob/main/Mediana.ipynb\" target=\"_parent\"><img src=\"https://colab.research.google.com/assets/colab-badge.svg\" alt=\"Open In Colab\"/></a>"
      ]
    },
    {
      "cell_type": "code",
      "execution_count": 1,
      "metadata": {
        "id": "8xkl3-8o9P30"
      },
      "outputs": [],
      "source": [
        "# Calcular la mediana de tres numeros <>\n",
        "\n",
        "def calcular_mediana (a, b, c):\n",
        "  if a > b:\n",
        "    if a < c:\n",
        "      return a\n",
        "    elif b > c:\n",
        "      return b\n",
        "    else:\n",
        "      return c\n",
        "  else:\n",
        "    if a > c:\n",
        "      return a\n",
        "    elif b < c:\n",
        "      return b\n",
        "    else:\n",
        "      return c\n",
        "\n",
        "  print(calcular_mediana(3,7,5))"
      ]
    }
  ]
}