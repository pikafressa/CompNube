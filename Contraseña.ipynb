{
  "nbformat": 4,
  "nbformat_minor": 0,
  "metadata": {
    "colab": {
      "provenance": [],
      "authorship_tag": "ABX9TyOT/5FVHr0h0ObiyXiskmbI",
      "include_colab_link": true
    },
    "kernelspec": {
      "name": "python3",
      "display_name": "Python 3"
    },
    "language_info": {
      "name": "python"
    }
  },
  "cells": [
    {
      "cell_type": "markdown",
      "metadata": {
        "id": "view-in-github",
        "colab_type": "text"
      },
      "source": [
        "<a href=\"https://colab.research.google.com/github/pikafressa/CompNube/blob/main/Contrase%C3%B1a.ipynb\" target=\"_parent\"><img src=\"https://colab.research.google.com/assets/colab-badge.svg\" alt=\"Open In Colab\"/></a>"
      ]
    },
    {
      "cell_type": "code",
      "execution_count": 2,
      "metadata": {
        "id": "oiS1KclZEaLo"
      },
      "outputs": [],
      "source": [
        "import random\n",
        "\n",
        "def generar_contrasena_aleatoria():\n",
        "    longitud_contrasena = random.randint(7, 10)\n",
        "    contrasena = ''.join(chr(random.randint(33, 126)) for _ in range(longitud_contrasena))\n",
        "    return contrasena\n",
        "\n",
        "if __name__ == \"_main_\":\n",
        "    contrasena_aleatoria = generar_contrasena_aleatoria()\n",
        "    print(f\"Contraseña generada de manera aleatoria es: {contrasena_aleatoria}\")"
      ]
    }
  ]
}